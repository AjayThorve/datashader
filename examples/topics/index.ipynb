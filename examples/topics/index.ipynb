{
 "cells": [
  {
   "cell_type": "markdown",
   "metadata": {},
   "source": [
    "Examples of what can be done with Datashader.\n",
    "\n",
    "To learn how to use Datashader, see the [Getting Started Guide](../getting_started/index.ipynb).\n",
    "\n",
    "Detailed documentation is contained in the [User Guide](../user_guide/index.ipynb).\n",
    "\n",
    "Contents:\n",
    "\n",
    "* [Census](census.ipynb)  \n",
    "   Population and racial data from the 2010 US Census visualized as scatter points.\n",
    "\n",
    "* [Gerrymandering](gerrymandering.ipynb)  \n",
    "   US Congressional boundaries overlaid on 2010 US Census data.\n",
    "   \n",
    "* [Landsat](landsat.ipynb)  \n",
    "   Hyperspectral satellite imaging data from Landsat8 visualized as rasters.\n",
    "\n",
    "* [Network Packets](network_packets.ipynb)  \n",
    "   PCAP network traffic data visualized as network graphs.\n",
    "\n",
    "* [NYC Taxi](nyc_taxi.ipynb)  \n",
    "   NYC Taxi data visualized as points, curves, and bars.  Uses trip data originally from the [NYC Taxi dataset](http://www.nyc.gov/html/tlc/html/about/trip_record_data.shtml)\n",
    "but preprocessed using `taxi_preprocessing_example.py` for convenience.\n",
    "   \n",
    "* [OpenSky](opensky.ipynb)  \n",
    "   OpenSky airplane trajectories visualized as points.\n",
    "\n",
    "* [OSM 1 Billion](osm-1billion.ipynb)  \n",
    "   1-billion-point OpenStreetMap dataset visualized as points on a laptop, in memory.\n",
    "\n",
    "* [OSM](osm.ipynb)  \n",
    "   2.7-billion-point OpenStreetMap dataset visualized as points on a laptop, out of core.\n",
    "\n",
    "* [Dashboard](../dashboard.ipynb)  \n",
    "   30-line dashboard for datashader plots based on the [Panel](http://panel.pyviz.org) library.\n",
    "\n",
    "* [Strange attractors](strange_attractors.ipynb)  \n",
    "   Visualizing attractor trajectories for various iterative equations.\n",
    "\n",
    "* [Bay Trimesh](bay_trimesh.ipynb)  \n",
    "   Rendering a triangular mesh of water depths in the Chesapeake and Delaware bay areas.\n",
    "\n",
    "* [Amazon.com center distance](https://anaconda.org/defusco/amz_centers/notebook)  \n",
    "   Cities in the USA colored by their distance to the nearest Amazon.com distribution center.\n",
    "\n",
    "* [UK Researchers](uk_researchers.ipynb)  \n",
    "   Network graph of collaborations between UK researchers.\n"
   ]
  },
  {
   "cell_type": "code",
   "execution_count": null,
   "metadata": {},
   "outputs": [],
   "source": []
  }
 ],
 "metadata": {
  "language_info": {
   "name": "python",
   "pygments_lexer": "ipython3"
  }
 },
 "nbformat": 4,
 "nbformat_minor": 2
}
